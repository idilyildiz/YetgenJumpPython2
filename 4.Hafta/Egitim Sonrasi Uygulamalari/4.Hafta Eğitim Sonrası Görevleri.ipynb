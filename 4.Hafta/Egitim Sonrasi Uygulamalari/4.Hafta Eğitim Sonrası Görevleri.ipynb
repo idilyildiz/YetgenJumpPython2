{
 "cells": [
  {
   "cell_type": "markdown",
   "metadata": {},
   "source": [
    "# Problem 1\n",
    "`ogrenciler` adında bir sözlük oluşturunuz. Kullanıcıdan döngü yardımıyla 3 öğrenci için veri girmesini isteyerek öğrencilerin sırasıyla okul numarası, isim, soy isim, telefon numarası ve doğum tarihi bilgilerini alınız. Aldığınız öğrenci bilgilerini yine aynı döngü yardımıyla `ogrenciler` adındaki sözlükte saklayınız. Daha sonra öğrenci bilgilerinin bulunduğu sözlük yapısını ekrana bastırınız.\n",
    "\n"
   ]
  },
  {
   "cell_type": "code",
   "execution_count": 2,
   "metadata": {},
   "outputs": [
    {
     "name": "stdout",
     "output_type": "stream",
     "text": [
      "1 tane ogrenci bilgisi alindi.\n",
      "2 tane ogrenci bilgisi alindi.\n",
      "3 tane ogrenci bilgisi alindi.\n",
      "{1: {'Okul No': '18585638', 'Isim': 'İdil', 'Soyisim': 'Yıldız', 'Telefon No': '54563158', 'Dogum Tarihi': '1999'}, 2: {'Okul No': '51563154', 'Isim': 'Beril', 'Soyisim': 'Akalın', 'Telefon No': '54154164', 'Dogum Tarihi': '1998'}, 3: {'Okul No': '5683525652', 'Isim': 'Sena ', 'Soyisim': 'Sayın', 'Telefon No': '514514', 'Dogum Tarihi': '1999'}}\n"
     ]
    }
   ],
   "source": [
    "ogrenciler = {}\n",
    "\n",
    "for i in range(1,4):\n",
    "\n",
    "    okulNo = input(\"Lutfen okul numaranizi giriniz: \")\n",
    "    isim = input(\"Lutfen isminizi giriniz: \")\n",
    "    soyisim = input(\"Lutfen soyismizi giriniz: \")\n",
    "    telefonNo = input (\"Lutfen telefon numaranizi giriniz: \") \n",
    "    dogumTarihi = input (\"Lutfen dogum tarihinizi giriniz: \")\n",
    "    \n",
    "    print(f\"{i} tane ogrenci bilgisi alindi.\")\n",
    "\n",
    "    ogrenciler [i] = { \n",
    "    \"Okul No\" : okulNo, \n",
    "    \"Isim\" : isim , \n",
    "    \"Soyisim\" : soyisim , \n",
    "    \"Telefon No\" : telefonNo, \n",
    "    \"Dogum Tarihi\" : dogumTarihi \n",
    "\n",
    "}\n",
    "\n",
    "print(ogrenciler)"
   ]
  },
  {
   "cell_type": "code",
   "execution_count": 10,
   "metadata": {},
   "outputs": [
    {
     "name": "stdout",
     "output_type": "stream",
     "text": [
      "['45615 İdil Yıldız 215315 1999 ', '26258846 Beril Akalın 2465165 1999 ', '1613244 Zeynep ']\n"
     ]
    }
   ],
   "source": [
    "#Alternatif cozum (liste ile) \n",
    "\n",
    "ogrenciler = []\n",
    "\n",
    "for i in range (1,4): \n",
    "    ogrenciler.append(input(\"%s. 'Okul No:' 'İsim:' 'Soyisim:' 'Telefon No:' 'Dogum Tarihi:' \"  %i ))\n",
    "\n",
    "print(ogrenciler)"
   ]
  },
  {
   "cell_type": "markdown",
   "metadata": {},
   "source": [
    "# Problem 2\n",
    "\n",
    "### a - Biraz ısınarak başlayalım!\n",
    "\n",
    "```\n",
    "numbers = [5,10,10,15,15,15,20,20,20,20]\n",
    "```\n",
    "\n",
    "Yukarıda `numbers` adında 10 elemanlı bir liste verilmiştir. Bu listenin her elemanını kontrol eden ve tekrar eden elemanları bir kez olacak şekilde başka bir listeye kopyalayan bir program yazınız. Son olarak oluşturduğunuz listeyi ekrana bastırınız.\n",
    "\n",
    "\n",
    "\n",
    "\n",
    "```\n",
    ">Output\n",
    "[5, 10, 15, 20]\n",
    "```\n"
   ]
  },
  {
   "cell_type": "code",
   "execution_count": 19,
   "metadata": {},
   "outputs": [
    {
     "name": "stdout",
     "output_type": "stream",
     "text": [
      "[5, 10, 15, 20]\n"
     ]
    }
   ],
   "source": [
    "numbers = [5, 10, 10, 15, 15, 15, 20, 20, 20, 20]\n",
    "\n",
    "sayilar = [] \n",
    "\n",
    "for i in numbers: \n",
    "    if i in sayilar: \n",
    "        continue\n",
    "    else: \n",
    "        sayilar.append(i)\n",
    "print(sayilar)"
   ]
  },
  {
   "cell_type": "code",
   "execution_count": 20,
   "metadata": {},
   "outputs": [
    {
     "name": "stdout",
     "output_type": "stream",
     "text": [
      "[5, 10, 15, 20]\n"
     ]
    }
   ],
   "source": [
    "#Alternatif çözüm \n",
    "\n",
    "numbers = [5, 10, 10, 15, 15, 15, 20, 20, 20, 20]\n",
    "\n",
    "sayilar = [] \n",
    "\n",
    "for i in numbers: \n",
    "    if i not in sayilar: \n",
    "        sayilar.append(i)\n",
    "print (sayilar)\n"
   ]
  },
  {
   "cell_type": "markdown",
   "metadata": {},
   "source": [
    "### 🌶️ b) Hadi işi biraz daha zorlaştıralım! \n",
    "\n",
    "\n",
    "Şimdiyse senden `numbers` isimli listedeki tekrar eden elemanları `repeatNumbers` adındaki listeye; tekrar etmeyen elemanları `uniqueNumbers`adındaki listeye kopyalayan yazmanı ve listeleri ekrana bastırmanı bekliyoruz\n",
    "\n",
    "```\n",
    ">Output\n",
    "Tekrar Eden Elemanlar: [10, 10, 15, 15, 15, 20, 20, 20, 20]\n",
    "Tekrar Etmeyen Elemanlar: [5]\n",
    "```"
   ]
  },
  {
   "cell_type": "code",
   "execution_count": 21,
   "metadata": {},
   "outputs": [
    {
     "name": "stdout",
     "output_type": "stream",
     "text": [
      "Tekrar Eden Elemanlar:  [10, 10, 15, 15, 15, 20, 20, 20, 20]\n",
      "Tekrar Etmeyen Elemanlar:  [5]\n"
     ]
    }
   ],
   "source": [
    "numbers = [5, 10, 10, 15, 15, 15, 20, 20, 20, 20]\n",
    "\n",
    "repeatNumbers = [] \n",
    "uniqueNumbers = []\n",
    "\n",
    "for i in numbers: \n",
    "    if numbers.count(i) == 1: \n",
    "        uniqueNumbers.append(i)\n",
    "    else: \n",
    "        repeatNumbers.append(i)\n",
    "print(\"Tekrar Eden Elemanlar: \" , repeatNumbers)\n",
    "print(\"Tekrar Etmeyen Elemanlar: \" , uniqueNumbers)"
   ]
  },
  {
   "cell_type": "markdown",
   "metadata": {},
   "source": [
    "# Problem 3\n",
    "sn1 = {1,2,3,4,5}\n",
    "\n",
    "sn2 = {4,5,6,7,8}\n",
    "\n",
    " Verilen 2 adet küme için kesişimlerini, farklarını ve birleşimlerini bulunuz. "
   ]
  },
  {
   "cell_type": "code",
   "execution_count": 33,
   "metadata": {},
   "outputs": [
    {
     "name": "stdout",
     "output_type": "stream",
     "text": [
      "İki kumenin kesisimi:  {4, 5}\n"
     ]
    }
   ],
   "source": [
    "#Kesisim\n",
    "\n",
    "sn1 = {1, 2, 3, 4, 5}\n",
    "sn2 = {4, 5, 6, 7, 8}\n",
    "\n",
    "kesisim = sn1.intersection(sn2)\n",
    "\n",
    "print (\"İki kumenin kesisimi: \" , kesisim)"
   ]
  },
  {
   "cell_type": "code",
   "execution_count": 35,
   "metadata": {},
   "outputs": [
    {
     "name": "stdout",
     "output_type": "stream",
     "text": [
      "Birinci kumeninin ikinci kumeden farki:  {1, 2, 3}\n"
     ]
    }
   ],
   "source": [
    "#Fark\n",
    "\n",
    "sn1 = {1, 2, 3, 4, 5}\n",
    "sn2 = {4, 5, 6, 7, 8}\n",
    "\n",
    "fark1 = sn1.difference(sn2)\n",
    "print(\"Birinci kumeninin ikinci kumeden farki: \" ,fark1)\n"
   ]
  },
  {
   "cell_type": "code",
   "execution_count": 36,
   "metadata": {},
   "outputs": [
    {
     "name": "stdout",
     "output_type": "stream",
     "text": [
      "İkinci kumenin birinci kumeden farki:  {8, 6, 7}\n"
     ]
    }
   ],
   "source": [
    "#Fark\n",
    "\n",
    "sn1 = {1, 2, 3, 4, 5}\n",
    "sn2 = {4, 5, 6, 7, 8}\n",
    "\n",
    "fark2 = sn2.difference(sn1)\n",
    "print(\"İkinci kumenin birinci kumeden farki: \", fark2)\n"
   ]
  },
  {
   "cell_type": "code",
   "execution_count": 29,
   "metadata": {},
   "outputs": [
    {
     "name": "stdout",
     "output_type": "stream",
     "text": [
      "{1, 2, 3}\n"
     ]
    }
   ],
   "source": [
    "#Fark \n",
    "\n",
    "sn1 = {1, 2, 3, 4, 5}\n",
    "sn2 = {4, 5, 6, 7, 8}\n",
    "\n",
    "fark3 = sn1.difference_update(sn2)    #Bu metot, difference() metodundan elde edilen sonuca göre bir kümenin güncellenmesini sağlar.\n",
    "print(sn1)                            #print icine sn1 yazdık!!!!"
   ]
  },
  {
   "cell_type": "code",
   "execution_count": 37,
   "metadata": {},
   "outputs": [
    {
     "name": "stdout",
     "output_type": "stream",
     "text": [
      "İki kumenin birlesimi:  {1, 2, 3, 4, 5, 6, 7, 8}\n"
     ]
    }
   ],
   "source": [
    "#Birlesim\n",
    "\n",
    "sn1 = {1, 2, 3, 4, 5}\n",
    "sn2 = {4, 5, 6, 7, 8}\n",
    "\n",
    "birlesim = sn1.union(sn2)\n",
    "\n",
    "print(\"İki kumenin birlesimi: \", birlesim)"
   ]
  },
  {
   "cell_type": "code",
   "execution_count": 32,
   "metadata": {},
   "outputs": [
    {
     "name": "stdout",
     "output_type": "stream",
     "text": [
      "{1, 2, 3, 4, 5, 6, 7, 8}\n"
     ]
    }
   ],
   "source": [
    "#Birlesim\n",
    "\n",
    "sn1 = {1, 2, 3, 4, 5}\n",
    "sn2 = {4, 5, 6, 7, 8}\n",
    "\n",
    "birlesim = sn1.update(sn2)\n",
    "\n",
    "print(sn1)            #print icine sn1 yazdık!!!!"
   ]
  },
  {
   "cell_type": "markdown",
   "metadata": {},
   "source": [
    "# Problem 4\n",
    "\n",
    "Buradaki işlemlerimizin tamamı stringler içindir. Aşağıda verilecek olan metodlar için kendinizin örnek yaratması gerekmektedir. \n",
    "\n",
    "Örneğin `upper` için `string` değişkeni oluştururken` k = \"BAC\"` şeklinde oluşturmayınız. Bunun yerine k değişkenini `k = \"bac`\" şeklinde oluşturmanız `upper` metodundaki değişimi görebilmeniz için daha iyi olacaktır.\n",
    "\n",
    "Bütün metodlardaki değişimin gözle görülür şekilde değişimi beklenmektedir.\n",
    "\n",
    "\n",
    "1- capitalize(), lower(), upper(), swapcase(), title(), replace()\n",
    "\n",
    "2- endswith(), startswith(), find(), index(), count()\n",
    "\n",
    "3- split(), strip(), join(), islower(), isalpha(), isdigit()\n",
    "\n",
    "\n",
    "Yukarıdaki `string` metodlarındaki değişimleri görebildiğimiz bir program yazınız.\n"
   ]
  },
  {
   "cell_type": "code",
   "execution_count": 73,
   "metadata": {},
   "outputs": [
    {
     "name": "stdout",
     "output_type": "stream",
     "text": [
      "Problem 4 tamamlandi.\n",
      "problem 4 tamamlandi.\n",
      "PROBLEM 4 TAMAMLANDI.\n",
      "pROBLEM 4 tAMAMLANDI.\n",
      "Problem 4 Tamamlandi.\n",
      "Preblem 4 Tamamlandi.\n",
      "True\n",
      "True\n",
      "8\n",
      "0\n",
      "3\n",
      "['Problem', '4', 'Tamamlandi.']\n",
      "roblem 4 Tamamlandi.\n",
      "Problem*4*Tamamlandi\n",
      "False\n",
      "False\n"
     ]
    }
   ],
   "source": [
    "problem = \"Problem 4 Tamamlandi.\"\n",
    "\n",
    "#1- capitalize()\n",
    "\n",
    "print(problem.capitalize())\n",
    "\n",
    "#1- lower()\n",
    "\n",
    "print(problem.lower())\n",
    "\n",
    "#1- upper()\n",
    "\n",
    "print(problem.upper())\n",
    "\n",
    "#1- swapcase()\n",
    "\n",
    "print(problem.swapcase())\n",
    "\n",
    "#1- title()\n",
    "\n",
    "print(problem.title())\n",
    "\n",
    "#1- replace()\n",
    "\n",
    "print(problem.replace(\"o\" , \"e\"))\n",
    "\n",
    "#2- endswitch()\n",
    "\n",
    "print(problem.endswith(\"Tamamlandi.\"))\n",
    "\n",
    "#2- startswitch()\n",
    "\n",
    "print(problem.startswith(\"Problem\"))\n",
    "\n",
    "#2- find()\n",
    "\n",
    "print(problem.find(\"4\"))\n",
    "\n",
    "#2- index()\n",
    "\n",
    "print(problem.index(\"Problem\" , 0,7))\n",
    "\n",
    "#2- count()\n",
    "\n",
    "print(problem.count(\"a\"))\n",
    "\n",
    "#3- split()\n",
    "\n",
    "print(problem.split(\" \"))\n",
    "\n",
    "#3- strip()\n",
    "\n",
    "print(problem.strip(\"P\"))\n",
    "\n",
    "#3- join()\n",
    "\n",
    "join1 = (\"Problem\" , \"4\" , \"Tamamlandi\")\n",
    "print(\"*\".join(join1))\n",
    "\n",
    "#3- islower()\n",
    "\n",
    "print(problem.islower())\n",
    "\n",
    "#3- isalpha()\n",
    "\n",
    "print(problem.isalpha())"
   ]
  }
 ],
 "metadata": {
  "kernelspec": {
   "display_name": "Python 3.10.5 64-bit",
   "language": "python",
   "name": "python3"
  },
  "language_info": {
   "codemirror_mode": {
    "name": "ipython",
    "version": 3
   },
   "file_extension": ".py",
   "mimetype": "text/x-python",
   "name": "python",
   "nbconvert_exporter": "python",
   "pygments_lexer": "ipython3",
   "version": "3.11.1"
  },
  "orig_nbformat": 4,
  "vscode": {
   "interpreter": {
    "hash": "5026d2d6e7aaaaba093def813beadff083d8733e4a511af01735cbabd156995d"
   }
  }
 },
 "nbformat": 4,
 "nbformat_minor": 2
}
