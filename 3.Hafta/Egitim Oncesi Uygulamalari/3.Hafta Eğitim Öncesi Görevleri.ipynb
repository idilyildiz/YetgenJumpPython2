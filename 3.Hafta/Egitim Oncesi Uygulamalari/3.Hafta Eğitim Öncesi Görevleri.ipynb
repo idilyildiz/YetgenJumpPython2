{
  "cells": [
    {
      "cell_type": "markdown",
      "metadata": {
        "id": "tsD4YVAe_Te2"
      },
      "source": [
        "# Problem 1\n",
        "Bir sayının 7'ye bölünebilir olup olmadığını kontrol etmek \n",
        "için bir program yazın.\n",
        "\n",
        "İpucu: Mod operatörünü (%) kullanabilirsiniz."
      ]
    },
    {
      "cell_type": "code",
      "execution_count": 4,
      "metadata": {
        "id": "NGjvNwKx_Te7"
      },
      "outputs": [
        {
          "name": "stdout",
          "output_type": "stream",
          "text": [
            "50.0 7 ile tam bölünemez.\n"
          ]
        }
      ],
      "source": [
        "sayi = float(input(\"Sayi giriniz: \"))\n",
        "\n",
        "if sayi % 7 == 0 : \n",
        "    print(f\"{sayi} 7 ile tam bölünür.\")\n",
        "else : \n",
        "    print(f\"{sayi} 7 ile tam bölünemez.\")"
      ]
    },
    {
      "cell_type": "markdown",
      "metadata": {
        "id": "Kg3qiBAI_Te8"
      },
      "source": [
        "# Problem 2\n",
        "Kullanıcıdan vize ve final notu isteyin. Girilen vize notunun %40’ı ve \n",
        "girilen finalnotunun ise %60’ı alınarak yıl sonu not ortalaması hesaplanacaktır. \n",
        "\n",
        "Bu not ortalaması eğer 85 ve üzeri ise AA, \n",
        "\n",
        "75 ve 85 arasında ise BA, \n",
        "\n",
        "70 ve 75 arasında ise BB, \n",
        "\n",
        "65 ve 70 arasında ise CB,\n",
        "\n",
        "60 ve 65 arasında ise CC,\n",
        "\n",
        "55 ve 60 arasında ise DC,\n",
        "\n",
        "50 ve 55 arasında ise DD olarak hesaplanacaktır. \n",
        "\n",
        "Bu öğrencinin yıl sonu toplam notu 50’nin altında ise FF ile dersten kalacaktır. \n",
        "\n",
        "Ayrıca öğrencinin final notu 50’nin altında ise direkt FF ile kalacaktır."
      ]
    },
    {
      "cell_type": "code",
      "execution_count": 27,
      "metadata": {
        "id": "MXTtCxI1_Te8"
      },
      "outputs": [
        {
          "name": "stdout",
          "output_type": "stream",
          "text": [
            "Yil sonu notunuz FF'dir.\n",
            "Yil sonu notunuz:  54.0\n"
          ]
        }
      ],
      "source": [
        "vize = int(input(\"Vize notunuzu giriniz: \"))\n",
        "final = int (input(\"Final notunuzu giriniz: \"))\n",
        "\n",
        "yilsonuNotu = ((vize * 0.4) + (final * 0.6))\n",
        "\n",
        "if final >= 50 : \n",
        "    if yilsonuNotu > 85 : \n",
        "        print(\"Yil sonu notunuz AA'dir.\")\n",
        "    elif yilsonuNotu > 75 and yilsonuNotu < 85 : \n",
        "        print (\"Yil sonu notunuz BA'dir. \")\n",
        "    elif yilsonuNotu > 70 and yilsonuNotu < 75 : \n",
        "        print (\"Yil sonu notunuz BB'dir. \")\n",
        "    elif yilsonuNotu > 65 and yilsonuNotu < 70 : \n",
        "        print (\"Yil sonu notunuz CB'dir. \")\n",
        "    elif yilsonuNotu > 60 and yilsonuNotu < 65 : \n",
        "        print (\"Yil sonu notunuz CC'dir. \")\n",
        "    elif yilsonuNotu > 55 and yilsonuNotu < 60 : \n",
        "        print (\"Yil sonu notunuz DC'dir. \")\n",
        "    elif yilsonuNotu > 50 and yilsonuNotu < 55 : \n",
        "        print (\"Yil sonu notunuz DD'dir. \")\n",
        "\n",
        "    elif final < 50 :\n",
        "        print(\"Yil sonu notunuz FF'dir.\")\n",
        "else: \n",
        "    print(\"Yil sonu notunuz FF'dir.\")\n",
        "\n",
        "print(\"Yil sonu notunuz: \", yilsonuNotu)"
      ]
    },
    {
      "cell_type": "markdown",
      "metadata": {
        "id": "tAoRYCTC_Te8"
      },
      "source": [
        "# Problem 3\n",
        "İki YetGenli Zirve'de karşılaşıyorlar. Birbirlerini tanımak için sorular soruyorlar. Birbirlerine yaşlarını soruyorlar. Akıllarına bir Python programı yazıp, yaşlarını ve isimlerini giriyorlar. Büyük olanın yaşını ekrana yazdıran programı yazıyorlar. Sende bu iki YetGenli'ye destek olmak ister misin?\n",
        "\n",
        "```\n",
        "Birinci YetGenlinin ismi: Ahmet\n",
        "Birinci YetGenlinin yaşı : 20\n",
        "İkinci YetGenlinin ismi: Mehmet\n",
        "İkinci YetGenlinin yaşı : 25\n",
        "Mehmet'in yaşı daha büyük ve yaşı 25'tir.\n",
        "```"
      ]
    },
    {
      "cell_type": "code",
      "execution_count": 29,
      "metadata": {
        "id": "bPjE8W0i_Te8"
      },
      "outputs": [
        {
          "name": "stdout",
          "output_type": "stream",
          "text": [
            "mehmet'in yasi daha buyuk ve 25 yasindadir.\n"
          ]
        }
      ],
      "source": [
        "isim1 = input(\"İsminizi giriniz: \")\n",
        "yas1 = int(input(\"Yasinizi giriniz: \"))\n",
        "\n",
        "isim2 = input(\"İsminizi giriniz: \")\n",
        "yas2 = int(input(\"Yasinizi giriniz: \"))\n",
        "\n",
        "if yas1 > yas2 : \n",
        "    print(f\"{isim1}'in yasi daha buyuk ve {yas1} yasindadir.\")\n",
        "else:\n",
        "    print(f\"{isim2}'in yasi daha buyuk ve {yas2} yasindadir.\") "
      ]
    },
    {
      "cell_type": "markdown",
      "metadata": {
        "id": "zBVv8Tyg_Te9"
      },
      "source": [
        "# Problem 4\n",
        "Pandemi döneminde AVM'lerde ateş ölçümü yapılıyor. AVM'ye giren kişinin ateş ölçümü 37.5 derecenin altında ise girişe izin veriliyor. 37.5 derecenin üstünde ise girişe izin verilmiyor. AVM'ye girişe izin verilip verilmediğini ekrana yazdıran bir program yazın.\n",
        "\n",
        "Program sonunda şöyle bir çıktı elde etmelisiniz:\n",
        "\n",
        "```\n",
        "Ateşiniz 37.5 derece. AVM'ye girebilirsin! Maske takmayı unutma!\n",
        "Ateşiniz 37.6 derece. AVM'ye giremezsin! Hemen evine dön!\n",
        "```"
      ]
    },
    {
      "cell_type": "code",
      "execution_count": 32,
      "metadata": {
        "id": "TSAXs8et_Te9"
      },
      "outputs": [
        {
          "name": "stdout",
          "output_type": "stream",
          "text": [
            "Atesiniz 38.0 derece. AVM'ye giremezsin! Hemen evine don!\n"
          ]
        }
      ],
      "source": [
        "ates = float(input(\"Ates olcumunu giriniz: \"))\n",
        "\n",
        "if ates < 37.5 :\n",
        "    print (f\"Atesiniz {ates} derece. AVM'ye girebilirsin! Maske takmayi unutma!\")\n",
        "else: \n",
        "    print(f\"Atesiniz {ates} derece. AVM'ye giremezsin! Hemen evine don!\")"
      ]
    },
    {
      "cell_type": "markdown",
      "metadata": {
        "id": "6AEkZrDt_Te9"
      },
      "source": [
        "# Problem 5\n",
        "YetGen bir spor kulübüyle sponsorluk anlaşması yapıyor. Kulüp, sponsorluk anlaşmasına göre her YetGen liderinin beden kitle indeksini hesaplamak istiyor. Spor kulübü, beden kitle indeksini hesaplamak için YetGen Jump Python liderlerinden Berkcan ve Ahmet'i arıyor. Berkcan ve Ahmet, kulübe yardımcı olmak için bir Python programı yazıyorlar. Sende bu iki YetGen liderine destek olmak ister misin?\n",
        "\n",
        "Kullanıcıdan alınan boy ve kilo değerlerine göre beden kitle indeksini hesaplayın ve şu kurallara göre ekrana şu yazıları yazdırın.\n",
        "\n",
        "\n",
        "Beden Kitle İndeksi, kişinin ağırlığının (kg olarak) boyunun karesine (m olarak) bölünmesiyle hesaplanır.\n",
        "\n",
        "\n",
        "```\n",
        " BKİ 18.5'un altındaysa -------> Zayıf\n",
        "\n",
        " BKİ 18.5 ile 25 arasındaysa ------> Normal\n",
        "\n",
        " BKİ 25 ile 30 arasındaysa --------> Fazla Kilolu\n",
        "\n",
        " BKİ 30'un üstündeyse -------------> Obez\n",
        "```\n",
        "\n"
      ]
    },
    {
      "cell_type": "code",
      "execution_count": 38,
      "metadata": {
        "id": "t-XPI_u0_Te-"
      },
      "outputs": [
        {
          "name": "stdout",
          "output_type": "stream",
          "text": [
            "Normal\n",
            "23.44\n"
          ]
        }
      ],
      "source": [
        "boy = float(input(\"Boyunuzu giriniz (m): \"))\n",
        "kilo = float(input(\"Kilonuzu giriniz (kg): \"))\n",
        "\n",
        "indeks =  kilo / (boy**2)\n",
        "\n",
        "if indeks < 18.5 :\n",
        "    print (\"Zayif\")\n",
        "elif indeks < 25 and indeks > 18.5 :\n",
        "    print(\"Normal\")\n",
        "elif indeks < 30 and indeks > 25 :\n",
        "    print(\"Fazla kilolu\")\n",
        "elif indeks > 30 : \n",
        "    print(\"Obez\")\n",
        "else: \n",
        "    print(\"Lutfen tekrar deneyin.\")\n",
        "\n",
        "bedenkitle= round(indeks,2)\n",
        "print(bedenkitle)"
      ]
    },
    {
      "cell_type": "markdown",
      "metadata": {
        "id": "oFsvQyaO_Te-"
      },
      "source": [
        "# Problem 6\n",
        "Kullanıcıdan isim, yaş ve eğitim bilgilerini isteyip ehliyet alabilme  durumunu kontrol ediniz. \n",
        "\n",
        "Ehliyet alma koşulu en az 18 yaşında ve eğitim durumu lise ya da üniversite olmalıdır. "
      ]
    },
    {
      "cell_type": "code",
      "execution_count": 44,
      "metadata": {
        "id": "Tu2mcgco_Te-"
      },
      "outputs": [
        {
          "name": "stdout",
          "output_type": "stream",
          "text": [
            "Ehliyet alabilirsiniz: \n"
          ]
        }
      ],
      "source": [
        "isim = input(\"İsminizi giriniz: \")\n",
        "yas = int(input(\"Yasinizi giriniz: \"))\n",
        "egitim = input('Egitim durumunuzu giriniz: \"İlkogretim\", \"Ortaogretim\", \"Lise\", \"Universite\"')\n",
        " \n",
        "\n",
        "if yas>= 18 and egitim== \"Lise\" or egitim== \"Universite\" : \n",
        "    print(\"Ehliyet alabilirsiniz: \")\n",
        " \n",
        "else :\n",
        "    print(\"Ehliyet alamazsiniz. \")"
      ]
    },
    {
      "cell_type": "markdown",
      "metadata": {
        "id": "eUkxVSAE_Te_"
      },
      "source": [
        "# Problem 7\n",
        "Bir yılın artık yıl olup olmadığını kontrol etmek için bir program yazın. \n",
        "Artık yıl kuralı:\n",
        "\n",
        "a) Eğer yılın son iki basamağı (00) ile bitmiyor ve yalnızca 4'e tam bölünüyorsa artık yıldır. Ya da, \n",
        "\n",
        "b) Eğer yıl 400'e tam bölünüyorsa artık yıldır.\n",
        "\n",
        "**Örneğin**\n",
        "```\n",
        "2017 artık yıl değildir.\n",
        "1900 artık yıl değildir\n",
        "2012 artık yıldır.\n",
        "2000 artık yıldır.\n",
        "```"
      ]
    },
    {
      "cell_type": "code",
      "execution_count": 45,
      "metadata": {
        "id": "4uWh8qUL_Te_"
      },
      "outputs": [
        {
          "name": "stdout",
          "output_type": "stream",
          "text": [
            "2017 artik yil degildir.\n"
          ]
        }
      ],
      "source": [
        "yil = int(input(\"Yil giriniz: \"))\n",
        "\n",
        "if yil % 100 ==0 and yil % 4==0 :\n",
        "    print(f\"{yil} artik yildir.\")\n",
        "elif yil %400 == 0:\n",
        "    print(f\"{yil} artil yildir.\")\n",
        "else: \n",
        "    print(f\"{yil} artik yil degildir.\")"
      ]
    }
  ],
  "metadata": {
    "colab": {
      "provenance": []
    },
    "kernelspec": {
      "display_name": "Python 3.10.5 64-bit",
      "language": "python",
      "name": "python3"
    },
    "language_info": {
      "codemirror_mode": {
        "name": "ipython",
        "version": 3
      },
      "file_extension": ".py",
      "mimetype": "text/x-python",
      "name": "python",
      "nbconvert_exporter": "python",
      "pygments_lexer": "ipython3",
      "version": "3.11.1"
    },
    "orig_nbformat": 4,
    "vscode": {
      "interpreter": {
        "hash": "5026d2d6e7aaaaba093def813beadff083d8733e4a511af01735cbabd156995d"
      }
    }
  },
  "nbformat": 4,
  "nbformat_minor": 0
}
